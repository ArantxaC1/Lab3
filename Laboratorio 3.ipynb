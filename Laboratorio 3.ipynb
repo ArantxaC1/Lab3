{
 "cells": [
  {
   "cell_type": "code",
   "execution_count": 7,
   "id": "7839a4d2-ac9d-4b3f-adc1-8c082bc5a875",
   "metadata": {},
   "outputs": [
    {
     "name": "stdin",
     "output_type": "stream",
     "text": [
      "Ingrese un número entero en decimal:  6\n"
     ]
    },
    {
     "name": "stdout",
     "output_type": "stream",
     "text": [
      "El número 6 en binario es: 110\n"
     ]
    }
   ],
   "source": [
    "# Arantxa Castañeda - Laboratorio 3\n",
    "# Ejercicio 1\n",
    "def number_decimal_a_binario(number):\n",
    "    if number >= 0:\n",
    "        binario = bin(number)[2:]\n",
    "    else:\n",
    "        binario = \"-\" + bin(abs(number))[2:]\n",
    "    print(f\"El número {number} en binario es: {binario}\")\n",
    "\n",
    "def main():\n",
    "    try:\n",
    "        numero = int(input(\"Ingrese un número entero en decimal: \"))\n",
    "        number_decimal_a_binario(numero)\n",
    "    except ValueError:\n",
    "        print(\"Error: Ingrese un número entero válido.\")\n",
    "\n",
    "main()"
   ]
  },
  {
   "cell_type": "code",
   "execution_count": 26,
   "id": "37148915-d8d1-4eab-954b-f70194bdf74f",
   "metadata": {},
   "outputs": [
    {
     "name": "stdin",
     "output_type": "stream",
     "text": [
      "Ingrese un número entero en decimal:  7\n"
     ]
    },
    {
     "name": "stdout",
     "output_type": "stream",
     "text": [
      "El número 7 en binario es: 111\n"
     ]
    }
   ],
   "source": [
    "#Ejercicio 2\n",
    "def number_decimal_a_binario(number):\n",
    "    if number >= 0:\n",
    "        binario = bin(number)[2:]\n",
    "    else:\n",
    "        binario = \"-\" + bin(abs(number))[2:]\n",
    "    print(f\"El número {number} en binario es: {binario}\")\n",
    "\n",
    "def main():\n",
    "    try:\n",
    "        numero = int(input(\"Ingrese un número entero en decimal: \"))\n",
    "        number_decimal_a_binario(numero)\n",
    "    except ValueError:\n",
    "        print(\"Error: Ingrese un número entero válido.\")\n",
    "\n",
    "main()"
   ]
  },
  {
   "cell_type": "code",
   "execution_count": 25,
   "id": "33f14272-667e-4bf8-b70e-f028a45d93c8",
   "metadata": {},
   "outputs": [
    {
     "name": "stdin",
     "output_type": "stream",
     "text": [
      "Ingrese una lista de números separados por espacio:  10 12 23 23 16 21\n"
     ]
    },
    {
     "name": "stdout",
     "output_type": "stream",
     "text": [
      "La desviación estándar es: 5.188127472091127\n"
     ]
    }
   ],
   "source": [
    "# Ejercicio 3\n",
    "def desviacion_estandar(lista):\n",
    "    # Paso 1: Calcular la media\n",
    "    suma = 0\n",
    "    n = len(lista)\n",
    "    for num in lista:\n",
    "        suma += num\n",
    "    media = suma / n\n",
    "    \n",
    "    # Paso 2: Calcular la suma de las diferencias al cuadrado\n",
    "    suma_cuadrados = 0\n",
    "    for num in lista:\n",
    "        suma_cuadrados += (num - media) ** 2\n",
    "    \n",
    "    # Paso 3: Calcular la varianza y la desviación estándar\n",
    "    varianza = suma_cuadrados / n  # Si necesitas la desviación estándar muestral, usa (n-1)\n",
    "    desviacion = varianza ** 0.5\n",
    "    \n",
    "    return desviacion\n",
    "\n",
    "def main_desviacion_estandar():\n",
    "    # Solicitar al usuario ingresar números separados por espacio\n",
    "    entrada = input(\"Ingrese una lista de números separados por espacio: \")\n",
    "    \n",
    "    # Convertir la entrada en una lista de números\n",
    "    lista_numeros = [float(num) for num in entrada.split()]\n",
    "    \n",
    "    # Calcular y mostrar la desviación estándar\n",
    "    if len(lista_numeros) > 0:\n",
    "        resultado = desviacion_estandar(lista_numeros)\n",
    "        print(f\"La desviación estándar es: {resultado}\")\n",
    "    else:\n",
    "        print(\"La lista no puede estar vacía.\")\n",
    "\n",
    "# Llamar a la función principal\n",
    "main_desviacion_estandar()"
   ]
  },
  {
   "cell_type": "code",
   "execution_count": 29,
   "id": "dd43ab46-cefc-49f9-97ef-d6beec581df6",
   "metadata": {},
   "outputs": [
    {
     "name": "stdin",
     "output_type": "stream",
     "text": [
      "Ingrese una lista de números separados por espacio:  45 89 13 25\n"
     ]
    },
    {
     "name": "stdout",
     "output_type": "stream",
     "text": [
      "Lista ordenada: [13, 25, 45, 89]\n"
     ]
    }
   ],
   "source": [
    "#Ejercicio 4\n",
    "def ordenamiento_burbuja(arr):\n",
    "    n = len(arr)\n",
    "    # Recorrer la lista varias veces\n",
    "    for i in range(n - 1):\n",
    "        for j in range(n - 1 - i):\n",
    "            if arr[j] > arr[j + 1]:  # Intercambiar si el elemento actual es mayor que el siguiente\n",
    "                arr[j], arr[j + 1] = arr[j + 1], arr[j]\n",
    "    return arr  # Retorna la lista ordenada\n",
    "\n",
    "def main_ordenamiento_burbuja():\n",
    "    # Solicitar al usuario ingresar números separados por espacio\n",
    "    entrada = input(\"Ingrese una lista de números separados por espacio: \")\n",
    "    \n",
    "    # Convertir la entrada en una lista de enteros\n",
    "    lista_numeros = [int(num) for num in entrada.split()]\n",
    "    \n",
    "    # Ordenar la lista con el algoritmo de burbuja\n",
    "    lista_ordenada = ordenamiento_burbuja(lista_numeros)\n",
    "    \n",
    "    # Mostrar el resultado\n",
    "    print(f\"Lista ordenada: {lista_ordenada}\")\n",
    "\n",
    "# Llamar a la función principal\n",
    "main_ordenamiento_burbuja()"
   ]
  },
  {
   "cell_type": "code",
   "execution_count": 30,
   "id": "01017225-42fe-43e4-9a73-3ae2962120a2",
   "metadata": {},
   "outputs": [
    {
     "name": "stdin",
     "output_type": "stream",
     "text": [
      "Ingrese los elementos de la tupla separados por espacio:  A R A N T X A\n"
     ]
    },
    {
     "name": "stdout",
     "output_type": "stream",
     "text": [
      "Tupla convertida a string: ARANTXA\n"
     ]
    }
   ],
   "source": [
    "#Ejercicio 5\n",
    "def tupla_a_string(tupla):\n",
    "    resultado = \"\"\n",
    "    for elemento in tupla:\n",
    "        resultado += str(elemento)  # Convertir cada elemento en string y concatenarlo\n",
    "    return resultado\n",
    "\n",
    "def main_tupla_a_string():\n",
    "    # Solicitar al usuario ingresar elementos separados por espacio\n",
    "    entrada = input(\"Ingrese los elementos de la tupla separados por espacio: \")\n",
    "    \n",
    "    # Convertir la entrada en una tupla de elementos\n",
    "    tupla_elementos = tuple(entrada.split())  # Se almacena como strings\n",
    "    \n",
    "    # Llamar a la función para convertir la tupla en string\n",
    "    resultado = tupla_a_string(tupla_elementos)\n",
    "    \n",
    "    # Mostrar el resultado\n",
    "    print(f\"Tupla convertida a string: {resultado}\")\n",
    "\n",
    "# Llamar a la función principal\n",
    "main_tupla_a_string()"
   ]
  },
  {
   "cell_type": "code",
   "execution_count": 41,
   "id": "edc99ace-96e7-4628-99c3-215f77b56d26",
   "metadata": {},
   "outputs": [
    {
     "name": "stdin",
     "output_type": "stream",
     "text": [
      "Ingrese una lista de tuplas [(), (), (’X’,), (’a’, ’b’), (’a’, ’b’, ’c’), (’d’)]\n"
     ]
    },
    {
     "name": "stdout",
     "output_type": "stream",
     "text": [
      "Error: invalid character '’' (U+2019) (<string>, line 1). Asegúrese de ingresar una lista válida de tuplas.\n"
     ]
    }
   ],
   "source": [
    "#Ejercicio 6\n",
    "def eliminar_tuplas_vacias(lista_tuplas):\n",
    "    # Filtrar las tuplas vacías\n",
    "    resultado = [tupla for tupla in lista_tuplas if tupla]\n",
    "    return resultado\n",
    "\n",
    "def main():\n",
    "    try:\n",
    "        # Ingresar una lista de tuplas\n",
    "        lista_input = input(\"Ingrese una lista de tuplas\")\n",
    "        # Convertir la entrada en una lista de tuplas\n",
    "        lista_tuplas = eval(lista_input)\n",
    "\n",
    "        if not isinstance(lista_tuplas, list):\n",
    "            print(\"Error: Ingrese una lista válida de tuplas.\")\n",
    "            return\n",
    "        \n",
    "        # Llamar a la función para eliminar tuplas vacías\n",
    "        resultado = eliminar_tuplas_vacias(lista_tuplas)\n",
    "\n",
    "        # Mostrar el resultado\n",
    "        print(f\"Lista después de eliminar tuplas vacías: {resultado}\")\n",
    "    \n",
    "    except Exception as e:\n",
    "        print(f\"Error: {e}. Asegúrese de ingresar una lista válida de tuplas.\")\n",
    "\n",
    "main()\n"
   ]
  },
  {
   "cell_type": "code",
   "execution_count": 35,
   "id": "17a41e7d-8c8c-4645-a056-91fa81259ab7",
   "metadata": {},
   "outputs": [
    {
     "name": "stdin",
     "output_type": "stream",
     "text": [
      "Ingrese una tupla de tuplas con números ((10, 10, 10, 12), (30, 45, 56, 45), (81, 80, 39, 32))\n"
     ]
    },
    {
     "name": "stdout",
     "output_type": "stream",
     "text": [
      "Promedios de cada tupla: (10.5, 44.0, 58.0)\n"
     ]
    }
   ],
   "source": [
    "#Ejercicio 7\n",
    "def calcular_promedios(tupla_tuplas):\n",
    "    # Calcular el promedio de cada tupla y devolver una nueva tupla con los promedios\n",
    "    promedios = tuple(sum(tupla) / len(tupla) for tupla in tupla_tuplas)\n",
    "    return promedios\n",
    "\n",
    "def main():\n",
    "    try:\n",
    "        # Ingresar la tupla de tuplas\n",
    "        input_tuplas = input(\"Ingrese una tupla de tuplas con números\")\n",
    "        # Convertir la entrada en una tupla de tuplas\n",
    "        tupla_tuplas = eval(input_tuplas)\n",
    "\n",
    "        if not isinstance(tupla_tuplas, tuple):\n",
    "            print(\"Error: Ingrese una tupla válida de tuplas.\")\n",
    "            return\n",
    "        \n",
    "        # Llamar a la función para calcular los promedios\n",
    "        resultado = calcular_promedios(tupla_tuplas)\n",
    "\n",
    "        # Mostrar el resultado\n",
    "        print(f\"Promedios de cada tupla: {resultado}\")\n",
    "    \n",
    "    except Exception as e:\n",
    "        print(f\"Error: {e}. Asegúrese de ingresar una tupla válida de tuplas.\")\n",
    "\n",
    "main()\n"
   ]
  },
  {
   "cell_type": "code",
   "execution_count": 39,
   "id": "108538ba-c1dd-4c4b-b311-8173b28fe367",
   "metadata": {},
   "outputs": [
    {
     "name": "stdin",
     "output_type": "stream",
     "text": [
      "Ingrese el título del libro:  El Retrato de Dorian Grey\n",
      "Ingrese el autor del libro:  Oscar Wilde\n",
      "Ingrese el número de páginas del libro:  256\n"
     ]
    },
    {
     "name": "stdout",
     "output_type": "stream",
     "text": [
      "\n",
      "Descripción del libro:\n",
      "\n",
      "Título: El Retrato de Dorian Grey\n",
      "Autor: Oscar Wilde\n",
      "Número de páginas: 256\n",
      "¿Leído?: no\n"
     ]
    },
    {
     "name": "stdin",
     "output_type": "stream",
     "text": [
      "\n",
      "¿Has leído el libro? (sí/no):  sí\n"
     ]
    },
    {
     "name": "stdout",
     "output_type": "stream",
     "text": [
      "\n",
      "Descripción actualizada del libro:\n",
      "\n",
      "Título: El Retrato de Dorian Grey\n",
      "Autor: Oscar Wilde\n",
      "Número de páginas: 256\n",
      "¿Leído?: sí\n"
     ]
    }
   ],
   "source": [
    "#Ejercicio 8\n",
    "class Libro:\n",
    "    def __init__(self, titulo, autor, num_paginas):\n",
    "        # Inicialización del libro con su información\n",
    "        self.titulo = titulo\n",
    "        self.autor = autor\n",
    "        self.num_paginas = num_paginas\n",
    "        self.leido = False  # Indicador de si el libro ha sido leído\n",
    "    \n",
    "    def marcar_como_leido(self):\n",
    "        # Cambiar el estado del libro a leído\n",
    "        self.leido = True\n",
    "    \n",
    "    def descripcion(self):\n",
    "        # Retornar una descripción legible del libro\n",
    "        estado_leido = \"sí\" if self.leido else \"no\"\n",
    "        return (f\"Título: {self.titulo}\\n\"\n",
    "                f\"Autor: {self.autor}\\n\"\n",
    "                f\"Número de páginas: {self.num_paginas}\\n\"\n",
    "                f\"¿Leído?: {estado_leido}\")\n",
    "\n",
    "# Función principal para interactuar con la clase\n",
    "def main():\n",
    "    # Ingresar información del libro\n",
    "    titulo = input(\"Ingrese el título del libro: \")\n",
    "    autor = input(\"Ingrese el autor del libro: \")\n",
    "    num_paginas = int(input(\"Ingrese el número de páginas del libro: \"))\n",
    "    \n",
    "    # Crear un libro con la información ingresada\n",
    "    libro1 = Libro(titulo, autor, num_paginas)\n",
    "    \n",
    "    # Mostrar la descripción del libro\n",
    "    print(\"\\nDescripción del libro:\\n\")\n",
    "    print(libro1.descripcion())\n",
    "    \n",
    "    # Preguntar si se quiere marcar el libro como leído\n",
    "    leer = input(\"\\n¿Has leído el libro? (sí/no): \").strip().lower()\n",
    "    if leer == 'sí':\n",
    "        libro1.marcar_como_leido()\n",
    "    \n",
    "    # Mostrar la descripción actualizada del libro\n",
    "    print(\"\\nDescripción actualizada del libro:\\n\")\n",
    "    print(libro1.descripcion())\n",
    "\n",
    "# Llamar a la función principal para ejecutar el código\n",
    "main()\n"
   ]
  },
  {
   "cell_type": "code",
   "execution_count": 40,
   "id": "fe83d91e-aa58-4afa-b2eb-65634766d8f5",
   "metadata": {},
   "outputs": [
    {
     "name": "stdin",
     "output_type": "stream",
     "text": [
      "Ingrese el radio del círculo:  7\n"
     ]
    },
    {
     "name": "stdout",
     "output_type": "stream",
     "text": [
      "\n",
      "Área del círculo: 153.94\n",
      "Circunferencia del círculo: 43.98\n"
     ]
    }
   ],
   "source": [
    "#Ejercicio 9\n",
    "import math\n",
    "\n",
    "class Circulo:\n",
    "    def __init__(self, radio):\n",
    "        # Inicializar el círculo con su radio\n",
    "        self.radio = radio\n",
    "    \n",
    "    def calcular_area(self):\n",
    "        # Calcular el área del círculo (A = π * r^2)\n",
    "        return math.pi * self.radio ** 2\n",
    "    \n",
    "    def calcular_circunferencia(self):\n",
    "        # Calcular la circunferencia del círculo (C = 2 * π * r)\n",
    "        return 2 * math.pi * self.radio\n",
    "\n",
    "# Función principal para interactuar con la clase\n",
    "def main():\n",
    "    try:\n",
    "        # Ingresar el radio del círculo\n",
    "        radio = float(input(\"Ingrese el radio del círculo: \"))\n",
    "        \n",
    "        # Crear un círculo con el radio ingresado\n",
    "        circulo = Circulo(radio)\n",
    "        \n",
    "        # Calcular y mostrar el área y la circunferencia\n",
    "        area = circulo.calcular_area()\n",
    "        circunferencia = circulo.calcular_circunferencia()\n",
    "        \n",
    "        # Mostrar los resultados\n",
    "        print(f\"\\nÁrea del círculo: {area:.2f}\")\n",
    "        print(f\"Circunferencia del círculo: {circunferencia:.2f}\")\n",
    "    \n",
    "    except ValueError:\n",
    "        print(\"Error: Ingrese un número válido para el radio.\")\n",
    "\n",
    "# Llamar a la función principal para ejecutar el código\n",
    "main()\n"
   ]
  },
  {
   "cell_type": "code",
   "execution_count": null,
   "id": "da07e274-a809-4da9-8fe2-d84de8cf816f",
   "metadata": {},
   "outputs": [],
   "source": []
  }
 ],
 "metadata": {
  "kernelspec": {
   "display_name": "Python 3 (ipykernel)",
   "language": "python",
   "name": "python3"
  },
  "language_info": {
   "codemirror_mode": {
    "name": "ipython",
    "version": 3
   },
   "file_extension": ".py",
   "mimetype": "text/x-python",
   "name": "python",
   "nbconvert_exporter": "python",
   "pygments_lexer": "ipython3",
   "version": "3.12.7"
  }
 },
 "nbformat": 4,
 "nbformat_minor": 5
}
